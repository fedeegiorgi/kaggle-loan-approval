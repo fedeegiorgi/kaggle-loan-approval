{
 "cells": [
  {
   "cell_type": "code",
   "execution_count": 1,
   "metadata": {},
   "outputs": [],
   "source": [
    "import pandas as pd\n",
    "import xgboost as xgb\n",
    "from sklearn.model_selection import StratifiedKFold\n",
    "from sklearn.metrics import roc_auc_score\n",
    "import pandas as pd\n",
    "from itertools import product\n",
    "import joblib  # To save the best model\n",
    "from catboost import CatBoostClassifier\n"
   ]
  },
  {
   "cell_type": "code",
   "execution_count": 2,
   "metadata": {},
   "outputs": [],
   "source": [
    "df_train = pd.read_csv(\"train.csv\")\n",
    "df_test = pd.read_csv(\"test.csv\")"
   ]
  },
  {
   "cell_type": "code",
   "execution_count": 3,
   "metadata": {},
   "outputs": [],
   "source": [
    "df_train = pd.get_dummies(df_train, columns=['person_home_ownership', 'loan_intent', 'cb_person_default_on_file'] ,drop_first=True)\n",
    "df_test = pd.get_dummies(df_test, columns=['person_home_ownership', 'loan_intent', 'cb_person_default_on_file'], drop_first=True)"
   ]
  },
  {
   "cell_type": "code",
   "execution_count": 4,
   "metadata": {},
   "outputs": [
    {
     "data": {
      "text/plain": [
       "id                               int64\n",
       "person_age                       int64\n",
       "person_income                    int64\n",
       "person_emp_length              float64\n",
       "loan_grade                      object\n",
       "loan_amnt                        int64\n",
       "loan_int_rate                  float64\n",
       "loan_percent_income            float64\n",
       "cb_person_cred_hist_length       int64\n",
       "loan_status                      int64\n",
       "person_home_ownership_OTHER       bool\n",
       "person_home_ownership_OWN         bool\n",
       "person_home_ownership_RENT        bool\n",
       "loan_intent_EDUCATION             bool\n",
       "loan_intent_HOMEIMPROVEMENT       bool\n",
       "loan_intent_MEDICAL               bool\n",
       "loan_intent_PERSONAL              bool\n",
       "loan_intent_VENTURE               bool\n",
       "cb_person_default_on_file_Y       bool\n",
       "dtype: object"
      ]
     },
     "execution_count": 4,
     "metadata": {},
     "output_type": "execute_result"
    }
   ],
   "source": [
    "df_train.dtypes"
   ]
  },
  {
   "cell_type": "code",
   "execution_count": 5,
   "metadata": {},
   "outputs": [],
   "source": [
    "# Ordinal Encoding for loan_grade\n",
    "loan_grade_mapping = {'A': 1, 'B': 2, 'C': 3, 'D': 4, 'E': 5, 'F': 6, 'G': 7}\n",
    "df_train['loan_grade_numeric'] = df_train['loan_grade'].map(loan_grade_mapping)\n",
    "df_test['loan_grade_numeric'] = df_test['loan_grade'].map(loan_grade_mapping)"
   ]
  },
  {
   "cell_type": "code",
   "execution_count": 6,
   "metadata": {},
   "outputs": [],
   "source": [
    "df_train = df_train.drop(columns=['loan_grade'], axis=1)\n",
    "df_test = df_test.drop(columns=['loan_grade'], axis=1)"
   ]
  },
  {
   "cell_type": "code",
   "execution_count": 7,
   "metadata": {},
   "outputs": [],
   "source": [
    "# Feature Engineering\n",
    "df_train['dti'] = df_train['loan_int_rate'] * df_train['loan_amnt']  / df_train['person_income']  # Debt-to-Income Ratio\n",
    "df_train['ltv'] = df_train['loan_amnt'] / df_train['person_income']  # Loan-to-Income Ratio (if no collateral)\n",
    "df_train['loan_amnt_person_income'] = df_train['loan_amnt'] / df_train['person_income']  # Loan Amount / Income\n",
    "df_train['emp_length_age_ratio'] = df_train['person_emp_length'] / df_train['person_age']  # Employment Length / Age\n",
    "df_train['loan_amnt_emp_length'] = df_train['loan_amnt'] / (df_train['person_emp_length'] + 1)  # Loan Amount / Employment Length\n",
    "df_train['cred_hist_age_ratio'] = df_train['cb_person_cred_hist_length'] / df_train['person_age']  # Credit History Length / Age\n",
    "df_train['income_loan_grade'] = df_train['person_income'] * df_train['loan_grade_numeric']  # Income * Loan Grade\n",
    "df_train['annual_interest_burden'] = df_train['loan_amnt'] * df_train['loan_int_rate']  # Loan Amount * Interest Rate\n",
    "df_train['loan_amnt_percent_income'] = df_train['loan_amnt'] / (df_train['loan_percent_income'] + 0.001)   # Loan Amount / Loan Percent Income\n",
    "df_train['loan_amnt_cred_hist'] = df_train['loan_amnt'] / df_train['cb_person_cred_hist_length']  # Loan Amount / Credit History Length\n",
    "\n",
    "# Feature Engineering\n",
    "df_test['dti'] = df_test['loan_int_rate'] * df_test['loan_amnt']  / df_test['person_income']  # Debt-to-Income Ratio\n",
    "df_test['ltv'] = df_test['loan_amnt'] / df_test['person_income']  # Loan-to-Income Ratio (if no collateral)\n",
    "df_test['loan_amnt_person_income'] = df_test['loan_amnt'] / df_test['person_income']  # Loan Amount / Income\n",
    "df_test['emp_length_age_ratio'] = df_test['person_emp_length'] / df_test['person_age']  # Employment Length / Age\n",
    "df_test['loan_amnt_emp_length'] = df_test['loan_amnt'] / (df_test['person_emp_length'] + 1)  # Loan Amount / Employment Length\n",
    "df_test['cred_hist_age_ratio'] = df_test['cb_person_cred_hist_length'] / df_test['person_age']  # Credit History Length / Age\n",
    "df_test['income_loan_grade'] = df_test['person_income'] * df_test['loan_grade_numeric']  # Income * Loan Grade\n",
    "df_test['annual_interest_burden'] = df_test['loan_amnt'] * df_test['loan_int_rate']  # Loan Amount * Interest Rate\n",
    "df_test['loan_amnt_percent_income'] = df_test['loan_amnt'] / (df_test['loan_percent_income'] + 0.001)  # Loan Amount / Loan Percent Income\n",
    "df_test['loan_amnt_cred_hist'] = df_test['loan_amnt'] / df_test['cb_person_cred_hist_length']  # Loan Amount / Credit History Length"
   ]
  },
  {
   "cell_type": "code",
   "execution_count": 9,
   "metadata": {},
   "outputs": [],
   "source": [
    "# Define the columns to create interactions\n",
    "columns = ['person_age', 'person_income', 'person_emp_length','loan_amnt', 'loan_int_rate', 'loan_percent_income', 'cb_person_cred_hist_length']\n",
    "\n",
    "# Loop over the selected columns to create interaction features\n",
    "for i, col1 in enumerate(columns):\n",
    "    for col2 in columns[i+1:]:\n",
    "        # Create new columns by multiplying\n",
    "        df_train[f'{col1}_x_{col2}'] = df_train[col1] * df_train[col2]\n",
    "        df_test[f'{col1}_x_{col2}'] = df_test[col1] * df_test[col2]\n",
    "        # Create new columns by dividing (to avoid division by zero, add a small constant if needed)\n",
    "        df_train[f'{col1}_div_{col2}'] = df_train[col1] / (df_train[col2] + 1e-10)  # Preventing division by zero\n",
    "        df_test[f'{col1}_div_{col2}'] = df_test[col1] / (df_test[col2] + 1e-10)"
   ]
  },
  {
   "cell_type": "code",
   "execution_count": 10,
   "metadata": {},
   "outputs": [
    {
     "data": {
      "text/plain": [
       "id                                                      int64\n",
       "person_age                                              int64\n",
       "person_income                                           int64\n",
       "person_emp_length                                     float64\n",
       "loan_amnt                                               int64\n",
       "                                                       ...   \n",
       "loan_int_rate_div_loan_percent_income                 float64\n",
       "loan_int_rate_x_cb_person_cred_hist_length            float64\n",
       "loan_int_rate_div_cb_person_cred_hist_length          float64\n",
       "loan_percent_income_x_cb_person_cred_hist_length      float64\n",
       "loan_percent_income_div_cb_person_cred_hist_length    float64\n",
       "Length: 66, dtype: object"
      ]
     },
     "execution_count": 10,
     "metadata": {},
     "output_type": "execute_result"
    }
   ],
   "source": [
    "df_train.dtypes"
   ]
  },
  {
   "cell_type": "code",
   "execution_count": 8,
   "metadata": {},
   "outputs": [],
   "source": [
    "# Split the data into features (X) and target (y)\n",
    "X = df_train.drop(columns=['loan_status', 'id'], axis=1)  # Features (drop the target column and 'id')\n",
    "y = df_train['loan_status']                               # Target"
   ]
  },
  {
   "cell_type": "code",
   "execution_count": 9,
   "metadata": {},
   "outputs": [
    {
     "name": "stderr",
     "output_type": "stream",
     "text": [
      "c:\\Users\\gerar\\Desktop\\kaggle_loan\\.venv\\lib\\site-packages\\tqdm\\auto.py:21: TqdmWarning: IProgress not found. Please update jupyter and ipywidgets. See https://ipywidgets.readthedocs.io/en/stable/user_install.html\n",
      "  from .autonotebook import tqdm as notebook_tqdm\n",
      "[I 2024-10-04 21:13:32,954] A new study created in memory with name: no-name-0c051be0-90e1-4ad0-a5a9-df8f9329dafd\n",
      "[I 2024-10-04 21:14:00,685] Trial 0 finished with value: 0.9428042453714701 and parameters: {'lambda': 0.001038113224886185, 'alpha': 2.968551754365886, 'learning_rate': 0.19371341698010308, 'max_depth': 9, 'min_child_weight': 7, 'subsample': 0.6482215701253844, 'colsample_bytree': 0.7760057288301152, 'num_boost_round': 1022}. Best is trial 0 with value: 0.9428042453714701.\n",
      "[I 2024-10-04 21:14:38,856] Trial 1 finished with value: 0.9393745345574882 and parameters: {'lambda': 0.7164031101404582, 'alpha': 2.6346978302296393, 'learning_rate': 0.26387508456925635, 'max_depth': 7, 'min_child_weight': 1, 'subsample': 0.5198286847047855, 'colsample_bytree': 0.7874806619874197, 'num_boost_round': 1677}. Best is trial 0 with value: 0.9428042453714701.\n",
      "[I 2024-10-04 21:14:56,092] Trial 2 finished with value: 0.9473614834155132 and parameters: {'lambda': 1.365933635068506, 'alpha': 0.029185573752462075, 'learning_rate': 0.1447688313593908, 'max_depth': 9, 'min_child_weight': 6, 'subsample': 0.9193990088672552, 'colsample_bytree': 0.9075981041119439, 'num_boost_round': 591}. Best is trial 2 with value: 0.9473614834155132.\n",
      "[I 2024-10-04 21:15:19,085] Trial 3 finished with value: 0.9398320150632229 and parameters: {'lambda': 0.0015468421611538373, 'alpha': 0.0011482675712770779, 'learning_rate': 0.29832360164911714, 'max_depth': 6, 'min_child_weight': 7, 'subsample': 0.77688908835016, 'colsample_bytree': 0.9884707787200622, 'num_boost_round': 1247}. Best is trial 2 with value: 0.9473614834155132.\n",
      "[I 2024-10-04 21:15:30,523] Trial 4 finished with value: 0.9393118564541064 and parameters: {'lambda': 2.083573105637761, 'alpha': 0.09615023862605966, 'learning_rate': 0.29953209807880193, 'max_depth': 7, 'min_child_weight': 5, 'subsample': 0.5485125673447919, 'colsample_bytree': 0.8392146795430532, 'num_boost_round': 537}. Best is trial 2 with value: 0.9473614834155132.\n",
      "[I 2024-10-04 21:15:52,815] Trial 5 finished with value: 0.9491328169786284 and parameters: {'lambda': 0.509865755999733, 'alpha': 0.0604207041770571, 'learning_rate': 0.15080602133375562, 'max_depth': 4, 'min_child_weight': 7, 'subsample': 0.8897706638606522, 'colsample_bytree': 0.79218796284738, 'num_boost_round': 1781}. Best is trial 5 with value: 0.9491328169786284.\n",
      "[I 2024-10-04 21:16:38,152] Trial 6 finished with value: 0.9405739728416712 and parameters: {'lambda': 6.213404042465663, 'alpha': 1.700270369036314, 'learning_rate': 0.21258201021128725, 'max_depth': 8, 'min_child_weight': 9, 'subsample': 0.5673588388971896, 'colsample_bytree': 0.62286803802085, 'num_boost_round': 1872}. Best is trial 5 with value: 0.9491328169786284.\n",
      "[I 2024-10-04 21:16:58,568] Trial 7 finished with value: 0.9421203283858764 and parameters: {'lambda': 0.008624912463946454, 'alpha': 2.0770601578290973, 'learning_rate': 0.21976518044187957, 'max_depth': 7, 'min_child_weight': 10, 'subsample': 0.5618903175420316, 'colsample_bytree': 0.5231155288206952, 'num_boost_round': 933}. Best is trial 5 with value: 0.9491328169786284.\n",
      "[I 2024-10-04 21:17:13,028] Trial 8 finished with value: 0.9471808247507372 and parameters: {'lambda': 1.866894584336517, 'alpha': 0.08041488505452038, 'learning_rate': 0.1711622933548196, 'max_depth': 7, 'min_child_weight': 4, 'subsample': 0.9140536019932021, 'colsample_bytree': 0.8515551726627659, 'num_boost_round': 719}. Best is trial 5 with value: 0.9491328169786284.\n",
      "[I 2024-10-04 21:17:37,479] Trial 9 finished with value: 0.944161631999943 and parameters: {'lambda': 0.001370812279189178, 'alpha': 0.16708516124098885, 'learning_rate': 0.20229416522894983, 'max_depth': 6, 'min_child_weight': 10, 'subsample': 0.9248358849794004, 'colsample_bytree': 0.7996693491914781, 'num_boost_round': 1526}. Best is trial 5 with value: 0.9491328169786284.\n",
      "[I 2024-10-04 21:17:58,238] Trial 10 finished with value: 0.9550823613732868 and parameters: {'lambda': 0.09713020104567924, 'alpha': 0.006740662434680233, 'learning_rate': 0.0677421263892231, 'max_depth': 3, 'min_child_weight': 3, 'subsample': 0.7972479099645672, 'colsample_bytree': 0.6796731093520446, 'num_boost_round': 1983}. Best is trial 10 with value: 0.9550823613732868.\n",
      "[I 2024-10-04 21:18:17,884] Trial 11 finished with value: 0.9555294421595224 and parameters: {'lambda': 0.12253535201738715, 'alpha': 0.005481250139893994, 'learning_rate': 0.0530745269619697, 'max_depth': 3, 'min_child_weight': 2, 'subsample': 0.8012829569021509, 'colsample_bytree': 0.6888518029085735, 'num_boost_round': 1978}. Best is trial 11 with value: 0.9555294421595224.\n",
      "[I 2024-10-04 21:18:37,095] Trial 12 finished with value: 0.9554081934550226 and parameters: {'lambda': 0.06587142340397795, 'alpha': 0.0028252840732751155, 'learning_rate': 0.042072865156771756, 'max_depth': 3, 'min_child_weight': 2, 'subsample': 0.786812728671199, 'colsample_bytree': 0.6832545364986962, 'num_boost_round': 1997}. Best is trial 11 with value: 0.9555294421595224.\n",
      "[I 2024-10-04 21:18:56,033] Trial 13 finished with value: 0.9551897398165197 and parameters: {'lambda': 0.08257458050099545, 'alpha': 0.0015207707847620779, 'learning_rate': 0.017767561213430896, 'max_depth': 4, 'min_child_weight': 1, 'subsample': 0.7006042293487326, 'colsample_bytree': 0.6649197654303015, 'num_boost_round': 1507}. Best is trial 11 with value: 0.9555294421595224.\n",
      "[I 2024-10-04 21:19:11,827] Trial 14 finished with value: 0.9550191534616422 and parameters: {'lambda': 0.024677928850672638, 'alpha': 0.007229928837220174, 'learning_rate': 0.08684873658436285, 'max_depth': 3, 'min_child_weight': 3, 'subsample': 0.8406917151571583, 'colsample_bytree': 0.5651004976270917, 'num_boost_round': 1616}. Best is trial 11 with value: 0.9555294421595224.\n",
      "[I 2024-10-04 21:19:42,240] Trial 15 finished with value: 0.9560146869993981 and parameters: {'lambda': 0.021347154040186958, 'alpha': 0.006541415603244036, 'learning_rate': 0.012915931633047176, 'max_depth': 5, 'min_child_weight': 2, 'subsample': 0.6976696664620831, 'colsample_bytree': 0.7146067185040053, 'num_boost_round': 1969}. Best is trial 15 with value: 0.9560146869993981.\n",
      "[I 2024-10-04 21:20:01,698] Trial 16 finished with value: 0.9483560287715651 and parameters: {'lambda': 0.010734844172564133, 'alpha': 0.012761519883440878, 'learning_rate': 0.10784202784921468, 'max_depth': 5, 'min_child_weight': 3, 'subsample': 0.6865398618566799, 'colsample_bytree': 0.724183800408011, 'num_boost_round': 1317}. Best is trial 15 with value: 0.9560146869993981.\n",
      "[I 2024-10-04 21:20:28,312] Trial 17 finished with value: 0.9556685555224178 and parameters: {'lambda': 0.3196012264488405, 'alpha': 0.5514264666477953, 'learning_rate': 0.013948570772569436, 'max_depth': 5, 'min_child_weight': 2, 'subsample': 0.6413865371856231, 'colsample_bytree': 0.6081457344555651, 'num_boost_round': 1787}. Best is trial 15 with value: 0.9560146869993981.\n",
      "[I 2024-10-04 21:20:47,787] Trial 18 finished with value: 0.9541007933432271 and parameters: {'lambda': 0.3150802007781725, 'alpha': 0.40289883969415435, 'learning_rate': 0.012649113323716127, 'max_depth': 5, 'min_child_weight': 5, 'subsample': 0.6133706338773933, 'colsample_bytree': 0.6193023531567102, 'num_boost_round': 1348}. Best is trial 15 with value: 0.9560146869993981.\n",
      "[I 2024-10-04 21:21:13,552] Trial 19 finished with value: 0.9507301710328224 and parameters: {'lambda': 0.005744534173863325, 'alpha': 0.5762131024787742, 'learning_rate': 0.0996972893014074, 'max_depth': 5, 'min_child_weight': 4, 'subsample': 0.9923138580744484, 'colsample_bytree': 0.5807652654390222, 'num_boost_round': 1755}. Best is trial 15 with value: 0.9560146869993981.\n",
      "[W 2024-10-04 21:22:13,205] Trial 20 failed with parameters: {'lambda': 0.040901365892840144, 'alpha': 0.3510396385902831, 'learning_rate': 0.12278947879623912, 'max_depth': 10, 'min_child_weight': 2, 'subsample': 0.7173296234366662, 'colsample_bytree': 0.5166762059750203, 'num_boost_round': 1832} because of the following error: KeyboardInterrupt().\n",
      "Traceback (most recent call last):\n",
      "  File \"c:\\Users\\gerar\\Desktop\\kaggle_loan\\.venv\\lib\\site-packages\\optuna\\study\\_optimize.py\", line 197, in _run_trial\n",
      "    value_or_values = func(trial)\n",
      "  File \"C:\\Users\\gerar\\AppData\\Local\\Temp\\ipykernel_47656\\3662907671.py\", line 52, in <lambda>\n",
      "    study.optimize(lambda trial: objective(trial, X, y), n_trials=100)\n",
      "  File \"C:\\Users\\gerar\\AppData\\Local\\Temp\\ipykernel_47656\\3662907671.py\", line 40, in objective\n",
      "    model = xgb.train(param, dtrain, num_boost_round=num_boost_round)\n",
      "  File \"c:\\Users\\gerar\\Desktop\\kaggle_loan\\.venv\\lib\\site-packages\\xgboost\\core.py\", line 726, in inner_f\n",
      "    return func(**kwargs)\n",
      "  File \"c:\\Users\\gerar\\Desktop\\kaggle_loan\\.venv\\lib\\site-packages\\xgboost\\training.py\", line 192, in train\n",
      "    return bst.copy()\n",
      "  File \"c:\\Users\\gerar\\Desktop\\kaggle_loan\\.venv\\lib\\site-packages\\xgboost\\core.py\", line 1931, in copy\n",
      "    return copy.copy(self)\n",
      "  File \"C:\\Program Files\\WindowsApps\\PythonSoftwareFoundation.Python.3.10_3.10.3056.0_x64__qbz5n2kfra8p0\\lib\\copy.py\", line 84, in copy\n",
      "    return copier(x)\n",
      "  File \"c:\\Users\\gerar\\Desktop\\kaggle_loan\\.venv\\lib\\site-packages\\xgboost\\core.py\", line 1917, in __copy__\n",
      "    return self.__deepcopy__(None)\n",
      "  File \"c:\\Users\\gerar\\Desktop\\kaggle_loan\\.venv\\lib\\site-packages\\xgboost\\core.py\", line 1921, in __deepcopy__\n",
      "    return Booster(model_file=self)\n",
      "  File \"c:\\Users\\gerar\\Desktop\\kaggle_loan\\.venv\\lib\\site-packages\\xgboost\\core.py\", line 1716, in __init__\n",
      "    state = model_file.__getstate__()\n",
      "  File \"c:\\Users\\gerar\\Desktop\\kaggle_loan\\.venv\\lib\\site-packages\\xgboost\\core.py\", line 1808, in __getstate__\n",
      "    _LIB.XGBoosterSerializeToBuffer(\n",
      "KeyboardInterrupt\n",
      "[W 2024-10-04 21:22:13,208] Trial 20 failed with value None.\n"
     ]
    },
    {
     "ename": "KeyboardInterrupt",
     "evalue": "",
     "output_type": "error",
     "traceback": [
      "\u001b[1;31m---------------------------------------------------------------------------\u001b[0m",
      "\u001b[1;31mKeyboardInterrupt\u001b[0m                         Traceback (most recent call last)",
      "Cell \u001b[1;32mIn[9], line 69\u001b[0m\n\u001b[0;32m     65\u001b[0m     \u001b[38;5;28;01mreturn\u001b[39;00m best_params, study\u001b[38;5;241m.\u001b[39mbest_value\n\u001b[0;32m     67\u001b[0m \u001b[38;5;66;03m# Example usage:\u001b[39;00m\n\u001b[0;32m     68\u001b[0m \u001b[38;5;66;03m# Assuming X and y are your feature matrix and labels\u001b[39;00m\n\u001b[1;32m---> 69\u001b[0m best_params, best_auc \u001b[38;5;241m=\u001b[39m \u001b[43moptimize_xgboost\u001b[49m\u001b[43m(\u001b[49m\u001b[43mX\u001b[49m\u001b[43m,\u001b[49m\u001b[43m \u001b[49m\u001b[43my\u001b[49m\u001b[43m,\u001b[49m\u001b[43m \u001b[49m\u001b[38;5;241;43m100\u001b[39;49m\u001b[43m,\u001b[49m\u001b[43m \u001b[49m\u001b[38;5;124;43m\"\u001b[39;49m\u001b[38;5;124;43mbest_params.json\u001b[39;49m\u001b[38;5;124;43m\"\u001b[39;49m\u001b[43m)\u001b[49m\n\u001b[0;32m     70\u001b[0m \u001b[38;5;28mprint\u001b[39m(\u001b[38;5;124mf\u001b[39m\u001b[38;5;124m\"\u001b[39m\u001b[38;5;124mBest params: \u001b[39m\u001b[38;5;132;01m{\u001b[39;00mbest_params\u001b[38;5;132;01m}\u001b[39;00m\u001b[38;5;124m, Best AUC: \u001b[39m\u001b[38;5;132;01m{\u001b[39;00mbest_auc\u001b[38;5;132;01m}\u001b[39;00m\u001b[38;5;124m\"\u001b[39m)\n",
      "Cell \u001b[1;32mIn[9], line 52\u001b[0m, in \u001b[0;36moptimize_xgboost\u001b[1;34m(X, y, n_trials, filename)\u001b[0m\n\u001b[0;32m     50\u001b[0m \u001b[38;5;28;01mdef\u001b[39;00m \u001b[38;5;21moptimize_xgboost\u001b[39m(X, y, n_trials, filename):\n\u001b[0;32m     51\u001b[0m     study \u001b[38;5;241m=\u001b[39m optuna\u001b[38;5;241m.\u001b[39mcreate_study(direction\u001b[38;5;241m=\u001b[39m\u001b[38;5;124m'\u001b[39m\u001b[38;5;124mmaximize\u001b[39m\u001b[38;5;124m'\u001b[39m)\n\u001b[1;32m---> 52\u001b[0m     \u001b[43mstudy\u001b[49m\u001b[38;5;241;43m.\u001b[39;49m\u001b[43moptimize\u001b[49m\u001b[43m(\u001b[49m\u001b[38;5;28;43;01mlambda\u001b[39;49;00m\u001b[43m \u001b[49m\u001b[43mtrial\u001b[49m\u001b[43m:\u001b[49m\u001b[43m \u001b[49m\u001b[43mobjective\u001b[49m\u001b[43m(\u001b[49m\u001b[43mtrial\u001b[49m\u001b[43m,\u001b[49m\u001b[43m \u001b[49m\u001b[43mX\u001b[49m\u001b[43m,\u001b[49m\u001b[43m \u001b[49m\u001b[43my\u001b[49m\u001b[43m)\u001b[49m\u001b[43m,\u001b[49m\u001b[43m \u001b[49m\u001b[43mn_trials\u001b[49m\u001b[38;5;241;43m=\u001b[39;49m\u001b[38;5;241;43m100\u001b[39;49m\u001b[43m)\u001b[49m\n\u001b[0;32m     54\u001b[0m     \u001b[38;5;66;03m# Save the study results (hyperparameters and AUC)\u001b[39;00m\n\u001b[0;32m     55\u001b[0m     best_params \u001b[38;5;241m=\u001b[39m study\u001b[38;5;241m.\u001b[39mbest_trial\u001b[38;5;241m.\u001b[39mparams\n",
      "File \u001b[1;32mc:\\Users\\gerar\\Desktop\\kaggle_loan\\.venv\\lib\\site-packages\\optuna\\study\\study.py:475\u001b[0m, in \u001b[0;36mStudy.optimize\u001b[1;34m(self, func, n_trials, timeout, n_jobs, catch, callbacks, gc_after_trial, show_progress_bar)\u001b[0m\n\u001b[0;32m    373\u001b[0m \u001b[38;5;28;01mdef\u001b[39;00m \u001b[38;5;21moptimize\u001b[39m(\n\u001b[0;32m    374\u001b[0m     \u001b[38;5;28mself\u001b[39m,\n\u001b[0;32m    375\u001b[0m     func: ObjectiveFuncType,\n\u001b[1;32m   (...)\u001b[0m\n\u001b[0;32m    382\u001b[0m     show_progress_bar: \u001b[38;5;28mbool\u001b[39m \u001b[38;5;241m=\u001b[39m \u001b[38;5;28;01mFalse\u001b[39;00m,\n\u001b[0;32m    383\u001b[0m ) \u001b[38;5;241m-\u001b[39m\u001b[38;5;241m>\u001b[39m \u001b[38;5;28;01mNone\u001b[39;00m:\n\u001b[0;32m    384\u001b[0m \u001b[38;5;250m    \u001b[39m\u001b[38;5;124;03m\"\"\"Optimize an objective function.\u001b[39;00m\n\u001b[0;32m    385\u001b[0m \n\u001b[0;32m    386\u001b[0m \u001b[38;5;124;03m    Optimization is done by choosing a suitable set of hyperparameter values from a given\u001b[39;00m\n\u001b[1;32m   (...)\u001b[0m\n\u001b[0;32m    473\u001b[0m \u001b[38;5;124;03m            If nested invocation of this method occurs.\u001b[39;00m\n\u001b[0;32m    474\u001b[0m \u001b[38;5;124;03m    \"\"\"\u001b[39;00m\n\u001b[1;32m--> 475\u001b[0m     \u001b[43m_optimize\u001b[49m\u001b[43m(\u001b[49m\n\u001b[0;32m    476\u001b[0m \u001b[43m        \u001b[49m\u001b[43mstudy\u001b[49m\u001b[38;5;241;43m=\u001b[39;49m\u001b[38;5;28;43mself\u001b[39;49m\u001b[43m,\u001b[49m\n\u001b[0;32m    477\u001b[0m \u001b[43m        \u001b[49m\u001b[43mfunc\u001b[49m\u001b[38;5;241;43m=\u001b[39;49m\u001b[43mfunc\u001b[49m\u001b[43m,\u001b[49m\n\u001b[0;32m    478\u001b[0m \u001b[43m        \u001b[49m\u001b[43mn_trials\u001b[49m\u001b[38;5;241;43m=\u001b[39;49m\u001b[43mn_trials\u001b[49m\u001b[43m,\u001b[49m\n\u001b[0;32m    479\u001b[0m \u001b[43m        \u001b[49m\u001b[43mtimeout\u001b[49m\u001b[38;5;241;43m=\u001b[39;49m\u001b[43mtimeout\u001b[49m\u001b[43m,\u001b[49m\n\u001b[0;32m    480\u001b[0m \u001b[43m        \u001b[49m\u001b[43mn_jobs\u001b[49m\u001b[38;5;241;43m=\u001b[39;49m\u001b[43mn_jobs\u001b[49m\u001b[43m,\u001b[49m\n\u001b[0;32m    481\u001b[0m \u001b[43m        \u001b[49m\u001b[43mcatch\u001b[49m\u001b[38;5;241;43m=\u001b[39;49m\u001b[38;5;28;43mtuple\u001b[39;49m\u001b[43m(\u001b[49m\u001b[43mcatch\u001b[49m\u001b[43m)\u001b[49m\u001b[43m \u001b[49m\u001b[38;5;28;43;01mif\u001b[39;49;00m\u001b[43m \u001b[49m\u001b[38;5;28;43misinstance\u001b[39;49m\u001b[43m(\u001b[49m\u001b[43mcatch\u001b[49m\u001b[43m,\u001b[49m\u001b[43m \u001b[49m\u001b[43mIterable\u001b[49m\u001b[43m)\u001b[49m\u001b[43m \u001b[49m\u001b[38;5;28;43;01melse\u001b[39;49;00m\u001b[43m \u001b[49m\u001b[43m(\u001b[49m\u001b[43mcatch\u001b[49m\u001b[43m,\u001b[49m\u001b[43m)\u001b[49m\u001b[43m,\u001b[49m\n\u001b[0;32m    482\u001b[0m \u001b[43m        \u001b[49m\u001b[43mcallbacks\u001b[49m\u001b[38;5;241;43m=\u001b[39;49m\u001b[43mcallbacks\u001b[49m\u001b[43m,\u001b[49m\n\u001b[0;32m    483\u001b[0m \u001b[43m        \u001b[49m\u001b[43mgc_after_trial\u001b[49m\u001b[38;5;241;43m=\u001b[39;49m\u001b[43mgc_after_trial\u001b[49m\u001b[43m,\u001b[49m\n\u001b[0;32m    484\u001b[0m \u001b[43m        \u001b[49m\u001b[43mshow_progress_bar\u001b[49m\u001b[38;5;241;43m=\u001b[39;49m\u001b[43mshow_progress_bar\u001b[49m\u001b[43m,\u001b[49m\n\u001b[0;32m    485\u001b[0m \u001b[43m    \u001b[49m\u001b[43m)\u001b[49m\n",
      "File \u001b[1;32mc:\\Users\\gerar\\Desktop\\kaggle_loan\\.venv\\lib\\site-packages\\optuna\\study\\_optimize.py:63\u001b[0m, in \u001b[0;36m_optimize\u001b[1;34m(study, func, n_trials, timeout, n_jobs, catch, callbacks, gc_after_trial, show_progress_bar)\u001b[0m\n\u001b[0;32m     61\u001b[0m \u001b[38;5;28;01mtry\u001b[39;00m:\n\u001b[0;32m     62\u001b[0m     \u001b[38;5;28;01mif\u001b[39;00m n_jobs \u001b[38;5;241m==\u001b[39m \u001b[38;5;241m1\u001b[39m:\n\u001b[1;32m---> 63\u001b[0m         \u001b[43m_optimize_sequential\u001b[49m\u001b[43m(\u001b[49m\n\u001b[0;32m     64\u001b[0m \u001b[43m            \u001b[49m\u001b[43mstudy\u001b[49m\u001b[43m,\u001b[49m\n\u001b[0;32m     65\u001b[0m \u001b[43m            \u001b[49m\u001b[43mfunc\u001b[49m\u001b[43m,\u001b[49m\n\u001b[0;32m     66\u001b[0m \u001b[43m            \u001b[49m\u001b[43mn_trials\u001b[49m\u001b[43m,\u001b[49m\n\u001b[0;32m     67\u001b[0m \u001b[43m            \u001b[49m\u001b[43mtimeout\u001b[49m\u001b[43m,\u001b[49m\n\u001b[0;32m     68\u001b[0m \u001b[43m            \u001b[49m\u001b[43mcatch\u001b[49m\u001b[43m,\u001b[49m\n\u001b[0;32m     69\u001b[0m \u001b[43m            \u001b[49m\u001b[43mcallbacks\u001b[49m\u001b[43m,\u001b[49m\n\u001b[0;32m     70\u001b[0m \u001b[43m            \u001b[49m\u001b[43mgc_after_trial\u001b[49m\u001b[43m,\u001b[49m\n\u001b[0;32m     71\u001b[0m \u001b[43m            \u001b[49m\u001b[43mreseed_sampler_rng\u001b[49m\u001b[38;5;241;43m=\u001b[39;49m\u001b[38;5;28;43;01mFalse\u001b[39;49;00m\u001b[43m,\u001b[49m\n\u001b[0;32m     72\u001b[0m \u001b[43m            \u001b[49m\u001b[43mtime_start\u001b[49m\u001b[38;5;241;43m=\u001b[39;49m\u001b[38;5;28;43;01mNone\u001b[39;49;00m\u001b[43m,\u001b[49m\n\u001b[0;32m     73\u001b[0m \u001b[43m            \u001b[49m\u001b[43mprogress_bar\u001b[49m\u001b[38;5;241;43m=\u001b[39;49m\u001b[43mprogress_bar\u001b[49m\u001b[43m,\u001b[49m\n\u001b[0;32m     74\u001b[0m \u001b[43m        \u001b[49m\u001b[43m)\u001b[49m\n\u001b[0;32m     75\u001b[0m     \u001b[38;5;28;01melse\u001b[39;00m:\n\u001b[0;32m     76\u001b[0m         \u001b[38;5;28;01mif\u001b[39;00m n_jobs \u001b[38;5;241m==\u001b[39m \u001b[38;5;241m-\u001b[39m\u001b[38;5;241m1\u001b[39m:\n",
      "File \u001b[1;32mc:\\Users\\gerar\\Desktop\\kaggle_loan\\.venv\\lib\\site-packages\\optuna\\study\\_optimize.py:160\u001b[0m, in \u001b[0;36m_optimize_sequential\u001b[1;34m(study, func, n_trials, timeout, catch, callbacks, gc_after_trial, reseed_sampler_rng, time_start, progress_bar)\u001b[0m\n\u001b[0;32m    157\u001b[0m         \u001b[38;5;28;01mbreak\u001b[39;00m\n\u001b[0;32m    159\u001b[0m \u001b[38;5;28;01mtry\u001b[39;00m:\n\u001b[1;32m--> 160\u001b[0m     frozen_trial \u001b[38;5;241m=\u001b[39m \u001b[43m_run_trial\u001b[49m\u001b[43m(\u001b[49m\u001b[43mstudy\u001b[49m\u001b[43m,\u001b[49m\u001b[43m \u001b[49m\u001b[43mfunc\u001b[49m\u001b[43m,\u001b[49m\u001b[43m \u001b[49m\u001b[43mcatch\u001b[49m\u001b[43m)\u001b[49m\n\u001b[0;32m    161\u001b[0m \u001b[38;5;28;01mfinally\u001b[39;00m:\n\u001b[0;32m    162\u001b[0m     \u001b[38;5;66;03m# The following line mitigates memory problems that can be occurred in some\u001b[39;00m\n\u001b[0;32m    163\u001b[0m     \u001b[38;5;66;03m# environments (e.g., services that use computing containers such as GitHub Actions).\u001b[39;00m\n\u001b[0;32m    164\u001b[0m     \u001b[38;5;66;03m# Please refer to the following PR for further details:\u001b[39;00m\n\u001b[0;32m    165\u001b[0m     \u001b[38;5;66;03m# https://github.com/optuna/optuna/pull/325.\u001b[39;00m\n\u001b[0;32m    166\u001b[0m     \u001b[38;5;28;01mif\u001b[39;00m gc_after_trial:\n",
      "File \u001b[1;32mc:\\Users\\gerar\\Desktop\\kaggle_loan\\.venv\\lib\\site-packages\\optuna\\study\\_optimize.py:248\u001b[0m, in \u001b[0;36m_run_trial\u001b[1;34m(study, func, catch)\u001b[0m\n\u001b[0;32m    241\u001b[0m         \u001b[38;5;28;01massert\u001b[39;00m \u001b[38;5;28;01mFalse\u001b[39;00m, \u001b[38;5;124m\"\u001b[39m\u001b[38;5;124mShould not reach.\u001b[39m\u001b[38;5;124m\"\u001b[39m\n\u001b[0;32m    243\u001b[0m \u001b[38;5;28;01mif\u001b[39;00m (\n\u001b[0;32m    244\u001b[0m     frozen_trial\u001b[38;5;241m.\u001b[39mstate \u001b[38;5;241m==\u001b[39m TrialState\u001b[38;5;241m.\u001b[39mFAIL\n\u001b[0;32m    245\u001b[0m     \u001b[38;5;129;01mand\u001b[39;00m func_err \u001b[38;5;129;01mis\u001b[39;00m \u001b[38;5;129;01mnot\u001b[39;00m \u001b[38;5;28;01mNone\u001b[39;00m\n\u001b[0;32m    246\u001b[0m     \u001b[38;5;129;01mand\u001b[39;00m \u001b[38;5;129;01mnot\u001b[39;00m \u001b[38;5;28misinstance\u001b[39m(func_err, catch)\n\u001b[0;32m    247\u001b[0m ):\n\u001b[1;32m--> 248\u001b[0m     \u001b[38;5;28;01mraise\u001b[39;00m func_err\n\u001b[0;32m    249\u001b[0m \u001b[38;5;28;01mreturn\u001b[39;00m frozen_trial\n",
      "File \u001b[1;32mc:\\Users\\gerar\\Desktop\\kaggle_loan\\.venv\\lib\\site-packages\\optuna\\study\\_optimize.py:197\u001b[0m, in \u001b[0;36m_run_trial\u001b[1;34m(study, func, catch)\u001b[0m\n\u001b[0;32m    195\u001b[0m \u001b[38;5;28;01mwith\u001b[39;00m get_heartbeat_thread(trial\u001b[38;5;241m.\u001b[39m_trial_id, study\u001b[38;5;241m.\u001b[39m_storage):\n\u001b[0;32m    196\u001b[0m     \u001b[38;5;28;01mtry\u001b[39;00m:\n\u001b[1;32m--> 197\u001b[0m         value_or_values \u001b[38;5;241m=\u001b[39m \u001b[43mfunc\u001b[49m\u001b[43m(\u001b[49m\u001b[43mtrial\u001b[49m\u001b[43m)\u001b[49m\n\u001b[0;32m    198\u001b[0m     \u001b[38;5;28;01mexcept\u001b[39;00m exceptions\u001b[38;5;241m.\u001b[39mTrialPruned \u001b[38;5;28;01mas\u001b[39;00m e:\n\u001b[0;32m    199\u001b[0m         \u001b[38;5;66;03m# TODO(mamu): Handle multi-objective cases.\u001b[39;00m\n\u001b[0;32m    200\u001b[0m         state \u001b[38;5;241m=\u001b[39m TrialState\u001b[38;5;241m.\u001b[39mPRUNED\n",
      "Cell \u001b[1;32mIn[9], line 52\u001b[0m, in \u001b[0;36moptimize_xgboost.<locals>.<lambda>\u001b[1;34m(trial)\u001b[0m\n\u001b[0;32m     50\u001b[0m \u001b[38;5;28;01mdef\u001b[39;00m \u001b[38;5;21moptimize_xgboost\u001b[39m(X, y, n_trials, filename):\n\u001b[0;32m     51\u001b[0m     study \u001b[38;5;241m=\u001b[39m optuna\u001b[38;5;241m.\u001b[39mcreate_study(direction\u001b[38;5;241m=\u001b[39m\u001b[38;5;124m'\u001b[39m\u001b[38;5;124mmaximize\u001b[39m\u001b[38;5;124m'\u001b[39m)\n\u001b[1;32m---> 52\u001b[0m     study\u001b[38;5;241m.\u001b[39moptimize(\u001b[38;5;28;01mlambda\u001b[39;00m trial: \u001b[43mobjective\u001b[49m\u001b[43m(\u001b[49m\u001b[43mtrial\u001b[49m\u001b[43m,\u001b[49m\u001b[43m \u001b[49m\u001b[43mX\u001b[49m\u001b[43m,\u001b[49m\u001b[43m \u001b[49m\u001b[43my\u001b[49m\u001b[43m)\u001b[49m, n_trials\u001b[38;5;241m=\u001b[39m\u001b[38;5;241m100\u001b[39m)\n\u001b[0;32m     54\u001b[0m     \u001b[38;5;66;03m# Save the study results (hyperparameters and AUC)\u001b[39;00m\n\u001b[0;32m     55\u001b[0m     best_params \u001b[38;5;241m=\u001b[39m study\u001b[38;5;241m.\u001b[39mbest_trial\u001b[38;5;241m.\u001b[39mparams\n",
      "Cell \u001b[1;32mIn[9], line 40\u001b[0m, in \u001b[0;36mobjective\u001b[1;34m(trial, X, y)\u001b[0m\n\u001b[0;32m     37\u001b[0m dtest \u001b[38;5;241m=\u001b[39m xgb\u001b[38;5;241m.\u001b[39mDMatrix(X_test, label\u001b[38;5;241m=\u001b[39my_test)\n\u001b[0;32m     39\u001b[0m \u001b[38;5;66;03m# Train model\u001b[39;00m\n\u001b[1;32m---> 40\u001b[0m model \u001b[38;5;241m=\u001b[39m \u001b[43mxgb\u001b[49m\u001b[38;5;241;43m.\u001b[39;49m\u001b[43mtrain\u001b[49m\u001b[43m(\u001b[49m\u001b[43mparam\u001b[49m\u001b[43m,\u001b[49m\u001b[43m \u001b[49m\u001b[43mdtrain\u001b[49m\u001b[43m,\u001b[49m\u001b[43m \u001b[49m\u001b[43mnum_boost_round\u001b[49m\u001b[38;5;241;43m=\u001b[39;49m\u001b[43mnum_boost_round\u001b[49m\u001b[43m)\u001b[49m\n\u001b[0;32m     42\u001b[0m \u001b[38;5;66;03m# Predict and calculate ROC AUC score\u001b[39;00m\n\u001b[0;32m     43\u001b[0m preds \u001b[38;5;241m=\u001b[39m model\u001b[38;5;241m.\u001b[39mpredict(dtest)\n",
      "File \u001b[1;32mc:\\Users\\gerar\\Desktop\\kaggle_loan\\.venv\\lib\\site-packages\\xgboost\\core.py:726\u001b[0m, in \u001b[0;36mrequire_keyword_args.<locals>.throw_if.<locals>.inner_f\u001b[1;34m(*args, **kwargs)\u001b[0m\n\u001b[0;32m    724\u001b[0m \u001b[38;5;28;01mfor\u001b[39;00m k, arg \u001b[38;5;129;01min\u001b[39;00m \u001b[38;5;28mzip\u001b[39m(sig\u001b[38;5;241m.\u001b[39mparameters, args):\n\u001b[0;32m    725\u001b[0m     kwargs[k] \u001b[38;5;241m=\u001b[39m arg\n\u001b[1;32m--> 726\u001b[0m \u001b[38;5;28;01mreturn\u001b[39;00m func(\u001b[38;5;241m*\u001b[39m\u001b[38;5;241m*\u001b[39mkwargs)\n",
      "File \u001b[1;32mc:\\Users\\gerar\\Desktop\\kaggle_loan\\.venv\\lib\\site-packages\\xgboost\\training.py:192\u001b[0m, in \u001b[0;36mtrain\u001b[1;34m(params, dtrain, num_boost_round, evals, obj, feval, maximize, early_stopping_rounds, evals_result, verbose_eval, xgb_model, callbacks, custom_metric)\u001b[0m\n\u001b[0;32m    188\u001b[0m     evals_result\u001b[38;5;241m.\u001b[39mupdate(cb_container\u001b[38;5;241m.\u001b[39mhistory)\n\u001b[0;32m    190\u001b[0m \u001b[38;5;66;03m# Copy to serialise and unserialise booster to reset state and free\u001b[39;00m\n\u001b[0;32m    191\u001b[0m \u001b[38;5;66;03m# training memory\u001b[39;00m\n\u001b[1;32m--> 192\u001b[0m \u001b[38;5;28;01mreturn\u001b[39;00m \u001b[43mbst\u001b[49m\u001b[38;5;241;43m.\u001b[39;49m\u001b[43mcopy\u001b[49m\u001b[43m(\u001b[49m\u001b[43m)\u001b[49m\n",
      "File \u001b[1;32mc:\\Users\\gerar\\Desktop\\kaggle_loan\\.venv\\lib\\site-packages\\xgboost\\core.py:1931\u001b[0m, in \u001b[0;36mBooster.copy\u001b[1;34m(self)\u001b[0m\n\u001b[0;32m   1923\u001b[0m \u001b[38;5;28;01mdef\u001b[39;00m \u001b[38;5;21mcopy\u001b[39m(\u001b[38;5;28mself\u001b[39m) \u001b[38;5;241m-\u001b[39m\u001b[38;5;241m>\u001b[39m \u001b[38;5;124m\"\u001b[39m\u001b[38;5;124mBooster\u001b[39m\u001b[38;5;124m\"\u001b[39m:\n\u001b[0;32m   1924\u001b[0m \u001b[38;5;250m    \u001b[39m\u001b[38;5;124;03m\"\"\"Copy the booster object.\u001b[39;00m\n\u001b[0;32m   1925\u001b[0m \n\u001b[0;32m   1926\u001b[0m \u001b[38;5;124;03m    Returns\u001b[39;00m\n\u001b[1;32m   (...)\u001b[0m\n\u001b[0;32m   1929\u001b[0m \u001b[38;5;124;03m        A copied booster model\u001b[39;00m\n\u001b[0;32m   1930\u001b[0m \u001b[38;5;124;03m    \"\"\"\u001b[39;00m\n\u001b[1;32m-> 1931\u001b[0m     \u001b[38;5;28;01mreturn\u001b[39;00m \u001b[43mcopy\u001b[49m\u001b[38;5;241;43m.\u001b[39;49m\u001b[43mcopy\u001b[49m\u001b[43m(\u001b[49m\u001b[38;5;28;43mself\u001b[39;49m\u001b[43m)\u001b[49m\n",
      "File \u001b[1;32mC:\\Program Files\\WindowsApps\\PythonSoftwareFoundation.Python.3.10_3.10.3056.0_x64__qbz5n2kfra8p0\\lib\\copy.py:84\u001b[0m, in \u001b[0;36mcopy\u001b[1;34m(x)\u001b[0m\n\u001b[0;32m     82\u001b[0m copier \u001b[38;5;241m=\u001b[39m \u001b[38;5;28mgetattr\u001b[39m(\u001b[38;5;28mcls\u001b[39m, \u001b[38;5;124m\"\u001b[39m\u001b[38;5;124m__copy__\u001b[39m\u001b[38;5;124m\"\u001b[39m, \u001b[38;5;28;01mNone\u001b[39;00m)\n\u001b[0;32m     83\u001b[0m \u001b[38;5;28;01mif\u001b[39;00m copier \u001b[38;5;129;01mis\u001b[39;00m \u001b[38;5;129;01mnot\u001b[39;00m \u001b[38;5;28;01mNone\u001b[39;00m:\n\u001b[1;32m---> 84\u001b[0m     \u001b[38;5;28;01mreturn\u001b[39;00m \u001b[43mcopier\u001b[49m\u001b[43m(\u001b[49m\u001b[43mx\u001b[49m\u001b[43m)\u001b[49m\n\u001b[0;32m     86\u001b[0m reductor \u001b[38;5;241m=\u001b[39m dispatch_table\u001b[38;5;241m.\u001b[39mget(\u001b[38;5;28mcls\u001b[39m)\n\u001b[0;32m     87\u001b[0m \u001b[38;5;28;01mif\u001b[39;00m reductor \u001b[38;5;129;01mis\u001b[39;00m \u001b[38;5;129;01mnot\u001b[39;00m \u001b[38;5;28;01mNone\u001b[39;00m:\n",
      "File \u001b[1;32mc:\\Users\\gerar\\Desktop\\kaggle_loan\\.venv\\lib\\site-packages\\xgboost\\core.py:1917\u001b[0m, in \u001b[0;36mBooster.__copy__\u001b[1;34m(self)\u001b[0m\n\u001b[0;32m   1916\u001b[0m \u001b[38;5;28;01mdef\u001b[39;00m \u001b[38;5;21m__copy__\u001b[39m(\u001b[38;5;28mself\u001b[39m) \u001b[38;5;241m-\u001b[39m\u001b[38;5;241m>\u001b[39m \u001b[38;5;124m\"\u001b[39m\u001b[38;5;124mBooster\u001b[39m\u001b[38;5;124m\"\u001b[39m:\n\u001b[1;32m-> 1917\u001b[0m     \u001b[38;5;28;01mreturn\u001b[39;00m \u001b[38;5;28;43mself\u001b[39;49m\u001b[38;5;241;43m.\u001b[39;49m\u001b[43m__deepcopy__\u001b[49m\u001b[43m(\u001b[49m\u001b[38;5;28;43;01mNone\u001b[39;49;00m\u001b[43m)\u001b[49m\n",
      "File \u001b[1;32mc:\\Users\\gerar\\Desktop\\kaggle_loan\\.venv\\lib\\site-packages\\xgboost\\core.py:1921\u001b[0m, in \u001b[0;36mBooster.__deepcopy__\u001b[1;34m(self, _)\u001b[0m\n\u001b[0;32m   1919\u001b[0m \u001b[38;5;28;01mdef\u001b[39;00m \u001b[38;5;21m__deepcopy__\u001b[39m(\u001b[38;5;28mself\u001b[39m, _: Any) \u001b[38;5;241m-\u001b[39m\u001b[38;5;241m>\u001b[39m \u001b[38;5;124m\"\u001b[39m\u001b[38;5;124mBooster\u001b[39m\u001b[38;5;124m\"\u001b[39m:\n\u001b[0;32m   1920\u001b[0m \u001b[38;5;250m    \u001b[39m\u001b[38;5;124;03m\"\"\"Return a copy of booster.\"\"\"\u001b[39;00m\n\u001b[1;32m-> 1921\u001b[0m     \u001b[38;5;28;01mreturn\u001b[39;00m \u001b[43mBooster\u001b[49m\u001b[43m(\u001b[49m\u001b[43mmodel_file\u001b[49m\u001b[38;5;241;43m=\u001b[39;49m\u001b[38;5;28;43mself\u001b[39;49m\u001b[43m)\u001b[49m\n",
      "File \u001b[1;32mc:\\Users\\gerar\\Desktop\\kaggle_loan\\.venv\\lib\\site-packages\\xgboost\\core.py:1716\u001b[0m, in \u001b[0;36mBooster.__init__\u001b[1;34m(self, params, cache, model_file)\u001b[0m\n\u001b[0;32m   1713\u001b[0m \u001b[38;5;28;01massert\u001b[39;00m \u001b[38;5;28mself\u001b[39m\u001b[38;5;241m.\u001b[39mhandle \u001b[38;5;129;01mis\u001b[39;00m \u001b[38;5;129;01mnot\u001b[39;00m \u001b[38;5;28;01mNone\u001b[39;00m\n\u001b[0;32m   1714\u001b[0m \u001b[38;5;66;03m# We use the pickle interface for getting memory snapshot from\u001b[39;00m\n\u001b[0;32m   1715\u001b[0m \u001b[38;5;66;03m# another model, and load the snapshot with this booster.\u001b[39;00m\n\u001b[1;32m-> 1716\u001b[0m state \u001b[38;5;241m=\u001b[39m \u001b[43mmodel_file\u001b[49m\u001b[38;5;241;43m.\u001b[39;49m\u001b[43m__getstate__\u001b[49m\u001b[43m(\u001b[49m\u001b[43m)\u001b[49m\n\u001b[0;32m   1717\u001b[0m handle \u001b[38;5;241m=\u001b[39m state[\u001b[38;5;124m\"\u001b[39m\u001b[38;5;124mhandle\u001b[39m\u001b[38;5;124m\"\u001b[39m]\n\u001b[0;32m   1718\u001b[0m \u001b[38;5;28;01mdel\u001b[39;00m state[\u001b[38;5;124m\"\u001b[39m\u001b[38;5;124mhandle\u001b[39m\u001b[38;5;124m\"\u001b[39m]\n",
      "File \u001b[1;32mc:\\Users\\gerar\\Desktop\\kaggle_loan\\.venv\\lib\\site-packages\\xgboost\\core.py:1808\u001b[0m, in \u001b[0;36mBooster.__getstate__\u001b[1;34m(self)\u001b[0m\n\u001b[0;32m   1805\u001b[0m length \u001b[38;5;241m=\u001b[39m c_bst_ulong()\n\u001b[0;32m   1806\u001b[0m cptr \u001b[38;5;241m=\u001b[39m ctypes\u001b[38;5;241m.\u001b[39mPOINTER(ctypes\u001b[38;5;241m.\u001b[39mc_char)()\n\u001b[0;32m   1807\u001b[0m _check_call(\n\u001b[1;32m-> 1808\u001b[0m     \u001b[43m_LIB\u001b[49m\u001b[38;5;241;43m.\u001b[39;49m\u001b[43mXGBoosterSerializeToBuffer\u001b[49m\u001b[43m(\u001b[49m\n\u001b[0;32m   1809\u001b[0m \u001b[43m        \u001b[49m\u001b[38;5;28;43mself\u001b[39;49m\u001b[38;5;241;43m.\u001b[39;49m\u001b[43mhandle\u001b[49m\u001b[43m,\u001b[49m\u001b[43m \u001b[49m\u001b[43mctypes\u001b[49m\u001b[38;5;241;43m.\u001b[39;49m\u001b[43mbyref\u001b[49m\u001b[43m(\u001b[49m\u001b[43mlength\u001b[49m\u001b[43m)\u001b[49m\u001b[43m,\u001b[49m\u001b[43m \u001b[49m\u001b[43mctypes\u001b[49m\u001b[38;5;241;43m.\u001b[39;49m\u001b[43mbyref\u001b[49m\u001b[43m(\u001b[49m\u001b[43mcptr\u001b[49m\u001b[43m)\u001b[49m\n\u001b[0;32m   1810\u001b[0m \u001b[43m    \u001b[49m\u001b[43m)\u001b[49m\n\u001b[0;32m   1811\u001b[0m )\n\u001b[0;32m   1812\u001b[0m buf \u001b[38;5;241m=\u001b[39m ctypes2buffer(cptr, length\u001b[38;5;241m.\u001b[39mvalue)\n\u001b[0;32m   1813\u001b[0m this[\u001b[38;5;124m\"\u001b[39m\u001b[38;5;124mhandle\u001b[39m\u001b[38;5;124m\"\u001b[39m] \u001b[38;5;241m=\u001b[39m buf\n",
      "\u001b[1;31mKeyboardInterrupt\u001b[0m: "
     ]
    }
   ],
   "source": [
    "import xgboost as xgb\n",
    "from sklearn.metrics import roc_auc_score\n",
    "from sklearn.model_selection import StratifiedKFold\n",
    "import pandas as pd\n",
    "import json\n",
    "import optuna\n",
    "\n",
    "# Function to optimize using Optuna\n",
    "def objective(trial, X, y):\n",
    "    # Define the hyperparameter search space\n",
    "    param = {\n",
    "        'tree_method': 'hist',  # Using GPU\n",
    "        'device': 'cuda',\n",
    "        'objective': 'binary:logistic',\n",
    "        'eval_metric': 'auc',\n",
    "        'lambda': trial.suggest_float('lambda', 1e-3, 10.0, log=True),\n",
    "        'alpha': trial.suggest_float('alpha', 1e-3, 10.0, log=True),\n",
    "        'learning_rate': trial.suggest_float('learning_rate', 0.01, 0.3),\n",
    "        'max_depth': trial.suggest_int('max_depth', 3, 10),\n",
    "        'min_child_weight': trial.suggest_int('min_child_weight', 1, 10),\n",
    "        'subsample': trial.suggest_float('subsample', 0.5, 1.0),\n",
    "        'colsample_bytree': trial.suggest_float('colsample_bytree', 0.5, 1.0)\n",
    "    }\n",
    "\n",
    "    # Define number of boosting rounds (equivalent to n_estimators)\n",
    "    num_boost_round = trial.suggest_int('num_boost_round', 500, 2000)\n",
    "\n",
    "    # Stratified K-Folds cross-validator\n",
    "    skf = StratifiedKFold(n_splits=5, shuffle=True, random_state=42)\n",
    "    aucs = []\n",
    "\n",
    "    for train_index, test_index in skf.split(X, y):\n",
    "        X_train, X_test = X.iloc[train_index], X.iloc[test_index]\n",
    "        y_train, y_test = y.iloc[train_index], y.iloc[test_index]\n",
    "\n",
    "        dtrain = xgb.DMatrix(X_train, label=y_train)\n",
    "        dtest = xgb.DMatrix(X_test, label=y_test)\n",
    "\n",
    "        # Train model\n",
    "        model = xgb.train(param, dtrain, num_boost_round=num_boost_round)\n",
    "\n",
    "        # Predict and calculate ROC AUC score\n",
    "        preds = model.predict(dtest)\n",
    "        auc = roc_auc_score(y_test, preds)\n",
    "        aucs.append(auc)\n",
    "\n",
    "    return sum(aucs) / len(aucs)\n",
    "\n",
    "# Run the optimization\n",
    "def optimize_xgboost(X, y, n_trials, filename):\n",
    "    study = optuna.create_study(direction='maximize')\n",
    "    study.optimize(lambda trial: objective(trial, X, y), n_trials=100)\n",
    "\n",
    "    # Save the study results (hyperparameters and AUC)\n",
    "    best_params = study.best_trial.params\n",
    "    results = study.trials_dataframe()\n",
    "\n",
    "    # Save to CSV\n",
    "    results.to_csv('optuna_xgboost_results.csv', index=False)\n",
    "\n",
    "    # Save best parameters to JSON\n",
    "    with open(filename, 'w') as f:\n",
    "        json.dump(best_params, f)\n",
    "\n",
    "    return best_params, study.best_value\n",
    "\n",
    "# Example usage:\n",
    "# Assuming X and y are your feature matrix and labels\n",
    "best_params, best_auc = optimize_xgboost(X, y, 100, \"best_params.json\")\n",
    "print(f\"Best params: {best_params}, Best AUC: {best_auc}\")"
   ]
  },
  {
   "cell_type": "code",
   "execution_count": 34,
   "metadata": {},
   "outputs": [
    {
     "data": {
      "text/plain": [
       "0.9586547632441647"
      ]
     },
     "execution_count": 34,
     "metadata": {},
     "output_type": "execute_result"
    }
   ],
   "source": [
    "#RE TRAIN BEST MODEL\n",
    "best_params.update({\n",
    "    'tree_method': 'hist',  # Using GPU\n",
    "    'device': 'cuda',\n",
    "    'objective': 'binary:logistic',\n",
    "    'eval_metric': 'auc'\n",
    "})\n",
    "\n",
    "num_boost_round = best_params.pop('num_boost_round', None)\n",
    "skf = StratifiedKFold(n_splits=5, shuffle=True, random_state=42)\n",
    "aucs = []\n",
    "\n",
    "for train_index, test_index in skf.split(X, y):\n",
    "    X_train, X_test = X.iloc[train_index], X.iloc[test_index]\n",
    "    y_train, y_test = y.iloc[train_index], y.iloc[test_index]\n",
    "\n",
    "    dtrain = xgb.DMatrix(X_train, label=y_train)\n",
    "    dtest = xgb.DMatrix(X_test, label=y_test)\n",
    "\n",
    "    # Train model\n",
    "    model = xgb.train(best_params, dtrain, num_boost_round=num_boost_round)\n",
    "\n",
    "    # Predict and calculate ROC AUC score\n",
    "    preds = model.predict(dtest)\n",
    "    auc = roc_auc_score(y_test, preds)\n",
    "    aucs.append(auc)\n",
    "\n",
    "sum(aucs) / len(aucs)"
   ]
  },
  {
   "cell_type": "code",
   "execution_count": 35,
   "metadata": {},
   "outputs": [],
   "source": [
    "df_test_ids = df_test['id']"
   ]
  },
  {
   "cell_type": "code",
   "execution_count": 43,
   "metadata": {},
   "outputs": [],
   "source": [
    "dtest = xgb.DMatrix(df_test.drop(columns=['id'], axis=1))"
   ]
  },
  {
   "cell_type": "code",
   "execution_count": 45,
   "metadata": {},
   "outputs": [],
   "source": [
    "y_pred = model.predict(dtest)"
   ]
  },
  {
   "cell_type": "code",
   "execution_count": 61,
   "metadata": {},
   "outputs": [],
   "source": [
    "submission = pd.DataFrame({'id': df_test_ids.values,         \n",
    "                            'prediction': y_pred})"
   ]
  },
  {
   "cell_type": "code",
   "execution_count": 62,
   "metadata": {},
   "outputs": [],
   "source": [
    "submission.to_csv(\"submission_baselinexgboost_0.9586.csv\", index=False)"
   ]
  },
  {
   "cell_type": "code",
   "execution_count": 63,
   "metadata": {},
   "outputs": [
    {
     "data": {
      "text/html": [
       "<div>\n",
       "<style scoped>\n",
       "    .dataframe tbody tr th:only-of-type {\n",
       "        vertical-align: middle;\n",
       "    }\n",
       "\n",
       "    .dataframe tbody tr th {\n",
       "        vertical-align: top;\n",
       "    }\n",
       "\n",
       "    .dataframe thead th {\n",
       "        text-align: right;\n",
       "    }\n",
       "</style>\n",
       "<table border=\"1\" class=\"dataframe\">\n",
       "  <thead>\n",
       "    <tr style=\"text-align: right;\">\n",
       "      <th></th>\n",
       "      <th>id</th>\n",
       "      <th>prediction</th>\n",
       "    </tr>\n",
       "  </thead>\n",
       "  <tbody>\n",
       "    <tr>\n",
       "      <th>0</th>\n",
       "      <td>58645</td>\n",
       "      <td>0.998867</td>\n",
       "    </tr>\n",
       "    <tr>\n",
       "      <th>1</th>\n",
       "      <td>58646</td>\n",
       "      <td>0.007398</td>\n",
       "    </tr>\n",
       "    <tr>\n",
       "      <th>2</th>\n",
       "      <td>58647</td>\n",
       "      <td>0.738488</td>\n",
       "    </tr>\n",
       "    <tr>\n",
       "      <th>3</th>\n",
       "      <td>58648</td>\n",
       "      <td>0.008945</td>\n",
       "    </tr>\n",
       "    <tr>\n",
       "      <th>4</th>\n",
       "      <td>58649</td>\n",
       "      <td>0.076600</td>\n",
       "    </tr>\n",
       "    <tr>\n",
       "      <th>...</th>\n",
       "      <td>...</td>\n",
       "      <td>...</td>\n",
       "    </tr>\n",
       "    <tr>\n",
       "      <th>39093</th>\n",
       "      <td>97738</td>\n",
       "      <td>0.041863</td>\n",
       "    </tr>\n",
       "    <tr>\n",
       "      <th>39094</th>\n",
       "      <td>97739</td>\n",
       "      <td>0.002184</td>\n",
       "    </tr>\n",
       "    <tr>\n",
       "      <th>39095</th>\n",
       "      <td>97740</td>\n",
       "      <td>0.010456</td>\n",
       "    </tr>\n",
       "    <tr>\n",
       "      <th>39096</th>\n",
       "      <td>97741</td>\n",
       "      <td>0.450214</td>\n",
       "    </tr>\n",
       "    <tr>\n",
       "      <th>39097</th>\n",
       "      <td>97742</td>\n",
       "      <td>0.947430</td>\n",
       "    </tr>\n",
       "  </tbody>\n",
       "</table>\n",
       "<p>39098 rows × 2 columns</p>\n",
       "</div>"
      ],
      "text/plain": [
       "          id  prediction\n",
       "0      58645    0.998867\n",
       "1      58646    0.007398\n",
       "2      58647    0.738488\n",
       "3      58648    0.008945\n",
       "4      58649    0.076600\n",
       "...      ...         ...\n",
       "39093  97738    0.041863\n",
       "39094  97739    0.002184\n",
       "39095  97740    0.010456\n",
       "39096  97741    0.450214\n",
       "39097  97742    0.947430\n",
       "\n",
       "[39098 rows x 2 columns]"
      ]
     },
     "execution_count": 63,
     "metadata": {},
     "output_type": "execute_result"
    }
   ],
   "source": [
    "submission"
   ]
  }
 ],
 "metadata": {
  "kernelspec": {
   "display_name": ".venv",
   "language": "python",
   "name": "python3"
  },
  "language_info": {
   "codemirror_mode": {
    "name": "ipython",
    "version": 3
   },
   "file_extension": ".py",
   "mimetype": "text/x-python",
   "name": "python",
   "nbconvert_exporter": "python",
   "pygments_lexer": "ipython3",
   "version": "3.10.11"
  }
 },
 "nbformat": 4,
 "nbformat_minor": 2
}
